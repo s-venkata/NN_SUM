{
  "nbformat": 4,
  "nbformat_minor": 0,
  "metadata": {
    "colab": {
      "provenance": [],
      "authorship_tag": "ABX9TyPYuwHkviwRTtZ4YYJ3MA07",
      "include_colab_link": true
    },
    "kernelspec": {
      "name": "python3",
      "display_name": "Python 3"
    },
    "language_info": {
      "name": "python"
    }
  },
  "cells": [
    {
      "cell_type": "markdown",
      "metadata": {
        "id": "view-in-github",
        "colab_type": "text"
      },
      "source": [
        "<a href=\"https://colab.research.google.com/github/s-venkata/NN_SUM/blob/main/NN_SUM.ipynb\" target=\"_parent\"><img src=\"https://colab.research.google.com/assets/colab-badge.svg\" alt=\"Open In Colab\"/></a>"
      ]
    },
    {
      "cell_type": "markdown",
      "source": [
        "Basic Neural Network"
      ],
      "metadata": {
        "id": "lZq5NO3xrCup"
      }
    },
    {
      "cell_type": "code",
      "execution_count": 76,
      "metadata": {
        "id": "kAoYdJmJn7Sh"
      },
      "outputs": [],
      "source": [
        "import torch\n",
        "import random\n",
        "import numpy as np\n",
        "import matplotlib"
      ]
    },
    {
      "cell_type": "code",
      "source": [
        "#setting seeds\n",
        "np.random.seed(0);\n",
        "torch.manual_seed(0);"
      ],
      "metadata": {
        "id": "-h5QvcOLvJ6k"
      },
      "execution_count": 77,
      "outputs": []
    },
    {
      "cell_type": "code",
      "source": [
        "import itertools\n",
        "\n",
        "# for p in  itertools.product(range(1,11), repeat=2):\n",
        "#   print(p)\n",
        "\n",
        "# all ordered pairs\n",
        "p = itertools.product(range(1,11), repeat=2)\n",
        "pairs = np.array(list(p))\n",
        "#print(pairs)\n",
        "\n",
        "#shuffling the pairs\n",
        "shuff = np.random.permutation(len(pairs))\n",
        "pairs = pairs[shuff]\n",
        "# print(pairs)\n"
      ],
      "metadata": {
        "id": "1CDIZo08vmY0"
      },
      "execution_count": 78,
      "outputs": []
    },
    {
      "cell_type": "code",
      "source": [
        "#tensors\n",
        "x= torch.from_numpy(pairs).to(torch.float32)\n",
        "# print(x)\n",
        "y= torch.from_numpy(pairs.sum(axis=1,keepdims=True)).float()\n",
        "# print(x.shape,y.shape)\n"
      ],
      "metadata": {
        "id": "rW7uObmD28YR"
      },
      "execution_count": 79,
      "outputs": []
    },
    {
      "cell_type": "code",
      "source": [
        "#Normalizing i/p values\n",
        "xn = x/10.0\n",
        "yn = y/20.0\n",
        "# print(xn,yn)"
      ],
      "metadata": {
        "id": "nEV0YcFR9wkT"
      },
      "execution_count": 80,
      "outputs": []
    },
    {
      "cell_type": "code",
      "source": [
        "#split the data\n",
        "\n",
        "x_train = x[:80]\n",
        "y_train = y[:80]\n",
        "# print(x_train,y_train)\n",
        "x_val = x[80:]\n",
        "y_val = y[80:]\n",
        "# print(x_val,y_val)"
      ],
      "metadata": {
        "id": "NpYCm7DR-2V9"
      },
      "execution_count": 81,
      "outputs": []
    },
    {
      "cell_type": "code",
      "source": [
        "# Model\n",
        "import torch.nn as nn\n",
        "model = nn.Linear(2,1)"
      ],
      "metadata": {
        "id": "prO4FA78DlTw"
      },
      "execution_count": 82,
      "outputs": []
    },
    {
      "cell_type": "code",
      "source": [
        "# loss function\n",
        "import torch.optim as optim\n",
        "loss_function = nn.MSELoss()\n",
        "optimizer = optim.SGD(model.parameters(),lr=0.01)\n"
      ],
      "metadata": {
        "id": "-B1jX4iTXRLE"
      },
      "execution_count": 83,
      "outputs": []
    },
    {
      "cell_type": "code",
      "source": [
        "# training\n",
        "epoch = 200\n",
        "for epoch in range(epoch):\n",
        "  #forward pass\n",
        "  y_pred =  model(x_train)\n",
        "  # loss\n",
        "  loss = loss_function(y_pred,y_train)\n",
        "  #back prop\n",
        "  optimizer.zero_grad()\n",
        "  loss.backward()\n",
        "  optimizer.step()\n",
        "\n",
        "  print(f\"Epoch {epoch+1}: train loss = {loss.item():.4f}\")\n",
        "\n",
        "\n",
        "\n"
      ],
      "metadata": {
        "colab": {
          "base_uri": "https://localhost:8080/"
        },
        "id": "CACZehKZcMwf",
        "outputId": "5b98a5fd-6a7c-4b99-a442-c4b8e02b8ab8"
      },
      "execution_count": 84,
      "outputs": [
        {
          "output_type": "stream",
          "name": "stdout",
          "text": [
            "Epoch 1: train loss = 99.0102\n",
            "Epoch 2: train loss = 11.8614\n",
            "Epoch 3: train loss = 1.6255\n",
            "Epoch 4: train loss = 0.3665\n",
            "Epoch 5: train loss = 0.1725\n",
            "Epoch 6: train loss = 0.1169\n",
            "Epoch 7: train loss = 0.0875\n",
            "Epoch 8: train loss = 0.0681\n",
            "Epoch 9: train loss = 0.0548\n",
            "Epoch 10: train loss = 0.0455\n",
            "Epoch 11: train loss = 0.0390\n",
            "Epoch 12: train loss = 0.0344\n",
            "Epoch 13: train loss = 0.0312\n",
            "Epoch 14: train loss = 0.0290\n",
            "Epoch 15: train loss = 0.0274\n",
            "Epoch 16: train loss = 0.0262\n",
            "Epoch 17: train loss = 0.0254\n",
            "Epoch 18: train loss = 0.0248\n",
            "Epoch 19: train loss = 0.0243\n",
            "Epoch 20: train loss = 0.0240\n",
            "Epoch 21: train loss = 0.0237\n",
            "Epoch 22: train loss = 0.0234\n",
            "Epoch 23: train loss = 0.0232\n",
            "Epoch 24: train loss = 0.0231\n",
            "Epoch 25: train loss = 0.0229\n",
            "Epoch 26: train loss = 0.0228\n",
            "Epoch 27: train loss = 0.0226\n",
            "Epoch 28: train loss = 0.0225\n",
            "Epoch 29: train loss = 0.0224\n",
            "Epoch 30: train loss = 0.0222\n",
            "Epoch 31: train loss = 0.0221\n",
            "Epoch 32: train loss = 0.0220\n",
            "Epoch 33: train loss = 0.0219\n",
            "Epoch 34: train loss = 0.0218\n",
            "Epoch 35: train loss = 0.0217\n",
            "Epoch 36: train loss = 0.0216\n",
            "Epoch 37: train loss = 0.0214\n",
            "Epoch 38: train loss = 0.0213\n",
            "Epoch 39: train loss = 0.0212\n",
            "Epoch 40: train loss = 0.0211\n",
            "Epoch 41: train loss = 0.0210\n",
            "Epoch 42: train loss = 0.0209\n",
            "Epoch 43: train loss = 0.0208\n",
            "Epoch 44: train loss = 0.0207\n",
            "Epoch 45: train loss = 0.0206\n",
            "Epoch 46: train loss = 0.0205\n",
            "Epoch 47: train loss = 0.0204\n",
            "Epoch 48: train loss = 0.0203\n",
            "Epoch 49: train loss = 0.0202\n",
            "Epoch 50: train loss = 0.0200\n",
            "Epoch 51: train loss = 0.0199\n",
            "Epoch 52: train loss = 0.0198\n",
            "Epoch 53: train loss = 0.0197\n",
            "Epoch 54: train loss = 0.0196\n",
            "Epoch 55: train loss = 0.0195\n",
            "Epoch 56: train loss = 0.0194\n",
            "Epoch 57: train loss = 0.0193\n",
            "Epoch 58: train loss = 0.0192\n",
            "Epoch 59: train loss = 0.0191\n",
            "Epoch 60: train loss = 0.0190\n",
            "Epoch 61: train loss = 0.0189\n",
            "Epoch 62: train loss = 0.0188\n",
            "Epoch 63: train loss = 0.0187\n",
            "Epoch 64: train loss = 0.0186\n",
            "Epoch 65: train loss = 0.0185\n",
            "Epoch 66: train loss = 0.0185\n",
            "Epoch 67: train loss = 0.0184\n",
            "Epoch 68: train loss = 0.0183\n",
            "Epoch 69: train loss = 0.0182\n",
            "Epoch 70: train loss = 0.0181\n",
            "Epoch 71: train loss = 0.0180\n",
            "Epoch 72: train loss = 0.0179\n",
            "Epoch 73: train loss = 0.0178\n",
            "Epoch 74: train loss = 0.0177\n",
            "Epoch 75: train loss = 0.0176\n",
            "Epoch 76: train loss = 0.0175\n",
            "Epoch 77: train loss = 0.0174\n",
            "Epoch 78: train loss = 0.0173\n",
            "Epoch 79: train loss = 0.0173\n",
            "Epoch 80: train loss = 0.0172\n",
            "Epoch 81: train loss = 0.0171\n",
            "Epoch 82: train loss = 0.0170\n",
            "Epoch 83: train loss = 0.0169\n",
            "Epoch 84: train loss = 0.0168\n",
            "Epoch 85: train loss = 0.0167\n",
            "Epoch 86: train loss = 0.0166\n",
            "Epoch 87: train loss = 0.0166\n",
            "Epoch 88: train loss = 0.0165\n",
            "Epoch 89: train loss = 0.0164\n",
            "Epoch 90: train loss = 0.0163\n",
            "Epoch 91: train loss = 0.0162\n",
            "Epoch 92: train loss = 0.0161\n",
            "Epoch 93: train loss = 0.0160\n",
            "Epoch 94: train loss = 0.0160\n",
            "Epoch 95: train loss = 0.0159\n",
            "Epoch 96: train loss = 0.0158\n",
            "Epoch 97: train loss = 0.0157\n",
            "Epoch 98: train loss = 0.0156\n",
            "Epoch 99: train loss = 0.0156\n",
            "Epoch 100: train loss = 0.0155\n",
            "Epoch 101: train loss = 0.0154\n",
            "Epoch 102: train loss = 0.0153\n",
            "Epoch 103: train loss = 0.0152\n",
            "Epoch 104: train loss = 0.0152\n",
            "Epoch 105: train loss = 0.0151\n",
            "Epoch 106: train loss = 0.0150\n",
            "Epoch 107: train loss = 0.0149\n",
            "Epoch 108: train loss = 0.0148\n",
            "Epoch 109: train loss = 0.0148\n",
            "Epoch 110: train loss = 0.0147\n",
            "Epoch 111: train loss = 0.0146\n",
            "Epoch 112: train loss = 0.0145\n",
            "Epoch 113: train loss = 0.0145\n",
            "Epoch 114: train loss = 0.0144\n",
            "Epoch 115: train loss = 0.0143\n",
            "Epoch 116: train loss = 0.0142\n",
            "Epoch 117: train loss = 0.0142\n",
            "Epoch 118: train loss = 0.0141\n",
            "Epoch 119: train loss = 0.0140\n",
            "Epoch 120: train loss = 0.0140\n",
            "Epoch 121: train loss = 0.0139\n",
            "Epoch 122: train loss = 0.0138\n",
            "Epoch 123: train loss = 0.0137\n",
            "Epoch 124: train loss = 0.0137\n",
            "Epoch 125: train loss = 0.0136\n",
            "Epoch 126: train loss = 0.0135\n",
            "Epoch 127: train loss = 0.0135\n",
            "Epoch 128: train loss = 0.0134\n",
            "Epoch 129: train loss = 0.0133\n",
            "Epoch 130: train loss = 0.0133\n",
            "Epoch 131: train loss = 0.0132\n",
            "Epoch 132: train loss = 0.0131\n",
            "Epoch 133: train loss = 0.0130\n",
            "Epoch 134: train loss = 0.0130\n",
            "Epoch 135: train loss = 0.0129\n",
            "Epoch 136: train loss = 0.0128\n",
            "Epoch 137: train loss = 0.0128\n",
            "Epoch 138: train loss = 0.0127\n",
            "Epoch 139: train loss = 0.0126\n",
            "Epoch 140: train loss = 0.0126\n",
            "Epoch 141: train loss = 0.0125\n",
            "Epoch 142: train loss = 0.0125\n",
            "Epoch 143: train loss = 0.0124\n",
            "Epoch 144: train loss = 0.0123\n",
            "Epoch 145: train loss = 0.0123\n",
            "Epoch 146: train loss = 0.0122\n",
            "Epoch 147: train loss = 0.0121\n",
            "Epoch 148: train loss = 0.0121\n",
            "Epoch 149: train loss = 0.0120\n",
            "Epoch 150: train loss = 0.0119\n",
            "Epoch 151: train loss = 0.0119\n",
            "Epoch 152: train loss = 0.0118\n",
            "Epoch 153: train loss = 0.0118\n",
            "Epoch 154: train loss = 0.0117\n",
            "Epoch 155: train loss = 0.0116\n",
            "Epoch 156: train loss = 0.0116\n",
            "Epoch 157: train loss = 0.0115\n",
            "Epoch 158: train loss = 0.0115\n",
            "Epoch 159: train loss = 0.0114\n",
            "Epoch 160: train loss = 0.0113\n",
            "Epoch 161: train loss = 0.0113\n",
            "Epoch 162: train loss = 0.0112\n",
            "Epoch 163: train loss = 0.0112\n",
            "Epoch 164: train loss = 0.0111\n",
            "Epoch 165: train loss = 0.0111\n",
            "Epoch 166: train loss = 0.0110\n",
            "Epoch 167: train loss = 0.0109\n",
            "Epoch 168: train loss = 0.0109\n",
            "Epoch 169: train loss = 0.0108\n",
            "Epoch 170: train loss = 0.0108\n",
            "Epoch 171: train loss = 0.0107\n",
            "Epoch 172: train loss = 0.0107\n",
            "Epoch 173: train loss = 0.0106\n",
            "Epoch 174: train loss = 0.0106\n",
            "Epoch 175: train loss = 0.0105\n",
            "Epoch 176: train loss = 0.0104\n",
            "Epoch 177: train loss = 0.0104\n",
            "Epoch 178: train loss = 0.0103\n",
            "Epoch 179: train loss = 0.0103\n",
            "Epoch 180: train loss = 0.0102\n",
            "Epoch 181: train loss = 0.0102\n",
            "Epoch 182: train loss = 0.0101\n",
            "Epoch 183: train loss = 0.0101\n",
            "Epoch 184: train loss = 0.0100\n",
            "Epoch 185: train loss = 0.0100\n",
            "Epoch 186: train loss = 0.0099\n",
            "Epoch 187: train loss = 0.0099\n",
            "Epoch 188: train loss = 0.0098\n",
            "Epoch 189: train loss = 0.0098\n",
            "Epoch 190: train loss = 0.0097\n",
            "Epoch 191: train loss = 0.0097\n",
            "Epoch 192: train loss = 0.0096\n",
            "Epoch 193: train loss = 0.0096\n",
            "Epoch 194: train loss = 0.0095\n",
            "Epoch 195: train loss = 0.0095\n",
            "Epoch 196: train loss = 0.0094\n",
            "Epoch 197: train loss = 0.0094\n",
            "Epoch 198: train loss = 0.0093\n",
            "Epoch 199: train loss = 0.0093\n",
            "Epoch 200: train loss = 0.0092\n"
          ]
        }
      ]
    },
    {
      "cell_type": "code",
      "source": [
        "model.eval()\n",
        "with torch.no_grad():\n",
        "  print(\"Test :\",loss_function(model(x_train),y_train).item())"
      ],
      "metadata": {
        "colab": {
          "base_uri": "https://localhost:8080/"
        },
        "id": "ABCiAXGPjNPV",
        "outputId": "0daac84c-c3dd-4551-be61-3209feda71ac"
      },
      "execution_count": 85,
      "outputs": [
        {
          "output_type": "stream",
          "name": "stdout",
          "text": [
            "Test : 0.009176952764391899\n"
          ]
        }
      ]
    }
  ]
}