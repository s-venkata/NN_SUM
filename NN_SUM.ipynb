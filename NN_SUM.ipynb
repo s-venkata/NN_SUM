{
  "nbformat": 4,
  "nbformat_minor": 0,
  "metadata": {
    "colab": {
      "provenance": []
    },
    "kernelspec": {
      "name": "python3",
      "display_name": "Python 3"
    },
    "language_info": {
      "name": "python"
    }
  },
  "cells": [
    {
      "cell_type": "markdown",
      "source": [
        "Basic Neural Network"
      ],
      "metadata": {
        "id": "lZq5NO3xrCup"
      }
    },
    {
      "cell_type": "code",
      "execution_count": 49,
      "metadata": {
        "id": "kAoYdJmJn7Sh"
      },
      "outputs": [],
      "source": [
        "import torch\n",
        "import random\n",
        "import numpy as np\n",
        "import matplotlib"
      ]
    },
    {
      "cell_type": "code",
      "source": [
        "#setting seeds\n",
        "np.random.seed(0);\n",
        "torch.manual_seed(0);"
      ],
      "metadata": {
        "id": "-h5QvcOLvJ6k"
      },
      "execution_count": 50,
      "outputs": []
    },
    {
      "cell_type": "code",
      "source": [
        "import itertools\n",
        "\n",
        "# for p in  itertools.product(range(1,11), repeat=2):\n",
        "#   print(p)\n",
        "\n",
        "# all ordered pairs\n",
        "p = itertools.product(range(1,11), repeat=2)\n",
        "pairs = np.array(list(p))\n",
        "#print(pairs)\n",
        "\n",
        "#shuffling the pairs\n",
        "shuff = np.random.permutation(len(pairs))\n",
        "pairs = pairs[shuff]\n",
        "# print(pairs)\n"
      ],
      "metadata": {
        "id": "1CDIZo08vmY0"
      },
      "execution_count": 51,
      "outputs": []
    },
    {
      "cell_type": "code",
      "source": [
        "#tensors\n",
        "x= torch.from_numpy(pairs).to(torch.float32)\n",
        "# print(x)\n",
        "y= torch.from_numpy(pairs.sum(axis=1,keepdims=True)).float()\n",
        "# print(x.shape,y.shape)\n"
      ],
      "metadata": {
        "id": "rW7uObmD28YR"
      },
      "execution_count": 52,
      "outputs": []
    },
    {
      "cell_type": "code",
      "source": [
        "#Normalizing i/p values\n",
        "xn = x/10.0\n",
        "yn = y/20.0\n",
        "# print(xn,yn)"
      ],
      "metadata": {
        "id": "nEV0YcFR9wkT"
      },
      "execution_count": 53,
      "outputs": []
    },
    {
      "cell_type": "code",
      "source": [
        "#split the data\n",
        "\n",
        "x_train = x[:80]\n",
        "y_train = y[:80]\n",
        "# print(x_train,y_train)\n",
        "x_val = x[80:]\n",
        "y_val = y[80:]\n",
        "# print(x_val,y_val)"
      ],
      "metadata": {
        "id": "NpYCm7DR-2V9"
      },
      "execution_count": 54,
      "outputs": []
    },
    {
      "cell_type": "code",
      "source": [],
      "metadata": {
        "id": "prO4FA78DlTw"
      },
      "execution_count": 54,
      "outputs": []
    }
  ]
}